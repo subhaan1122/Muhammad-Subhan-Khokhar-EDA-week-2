{
 "cells": [
  {
   "cell_type": "markdown",
   "id": "af3215f0",
   "metadata": {},
   "source": [
    "#### Pandas series code without dictionary."
   ]
  },
  {
   "cell_type": "code",
   "execution_count": 2,
   "id": "6d877b13",
   "metadata": {},
   "outputs": [
    {
     "name": "stdout",
     "output_type": "stream",
     "text": [
      "a    1\n",
      "x    4\n",
      "c    9\n",
      "2    6\n",
      "e    7\n",
      "dtype: int64\n"
     ]
    }
   ],
   "source": [
    "import pandas as pd\n",
    "data=[1,4,9,6,7]\n",
    "series= pd.Series(data,index=[\"a\",\"x\",\"c\",2,\"e\"])\n",
    "print(series)\n"
   ]
  },
  {
   "cell_type": "markdown",
   "id": "fb3483da",
   "metadata": {},
   "source": [
    "#### Pandas series code using dictionary."
   ]
  },
  {
   "cell_type": "code",
   "execution_count": 3,
   "id": "79b397f7",
   "metadata": {},
   "outputs": [
    {
     "name": "stdout",
     "output_type": "stream",
     "text": [
      "Bilal     42\n",
      "Ayesha    38\n",
      "Hadia     39\n",
      "dtype: int64\n"
     ]
    }
   ],
   "source": [
    "import pandas as pd\n",
    "Dic={'Bilal':42, 'Ayesha':38, 'Hadia':39} \n",
    "series= pd.Series(Dic)\n",
    "print(series)"
   ]
  },
  {
   "cell_type": "markdown",
   "id": "7007eeb2",
   "metadata": {},
   "source": [
    "####  Pandas dataframe code using python dictionary.\n"
   ]
  },
  {
   "cell_type": "code",
   "execution_count": 6,
   "id": "0ec6a57c",
   "metadata": {},
   "outputs": [
    {
     "name": "stdout",
     "output_type": "stream",
     "text": [
      "        Day  Temperature  windspeed  Event\n",
      "0  1/1/2017           32          6   Rain\n",
      "1  1/2/2017           35          7  Sunny\n",
      "2  1/3/2017           28          2   Snow\n",
      "3  1/4/2017           24          7   Snow\n",
      "4  1/5/2017           32          4   Rain\n",
      "5  1/6/2017           31          2  Sunny\n"
     ]
    }
   ],
   "source": [
    "import pandas as pd\n",
    "\n",
    "data={\"Day\":[\"1/1/2017\",\"1/2/2017\",\"1/3/2017\",\"1/4/2017\",\"1/5/2017\",\"1/6/2017\"], \"Temperature\":[32,35,28,24,32,31],\n",
    "      \"windspeed\":[6,7,2,7,4,2], \"Event\":[\"Rain\", \"Sunny\", \"Snow\",\"Snow\", \"Rain\", \"Sunny\"] }\n",
    "\n",
    "df=pd.DataFrame(data)\n",
    "print(df)"
   ]
  },
  {
   "cell_type": "markdown",
   "id": "a6fc79e0",
   "metadata": {},
   "source": [
    "#### Replace index in data frame by ['a','b','c','d','e','f'] "
   ]
  },
  {
   "cell_type": "code",
   "execution_count": 7,
   "id": "eb0b3c6b",
   "metadata": {},
   "outputs": [
    {
     "name": "stdout",
     "output_type": "stream",
     "text": [
      "        Day  Temperature  windspeed  Event\n",
      "a  1/1/2017           32          6   Rain\n",
      "b  1/2/2017           35          7  Sunny\n",
      "c  1/3/2017           28          2   Snow\n",
      "d  1/4/2017           24          7   Snow\n",
      "e  1/5/2017           32          4   Rain\n",
      "f  1/6/2017           31          2  Sunny\n"
     ]
    }
   ],
   "source": [
    "import pandas as pd\n",
    "\n",
    "data={\"Day\":[\"1/1/2017\",\"1/2/2017\",\"1/3/2017\",\"1/4/2017\",\"1/5/2017\",\"1/6/2017\"], \"Temperature\":[32,35,28,24,32,31], \n",
    "      \"windspeed\":[6,7,2,7,4,2], \"Event\":[\"Rain\", \"Sunny\", \"Snow\",\"Snow\", \"Rain\", \"Sunny\"],}\n",
    "\n",
    "df=pd.DataFrame(data, index =['a','b','c','d','e','f'])\n",
    "\n",
    "print(df)"
   ]
  },
  {
   "cell_type": "markdown",
   "id": "bc99a203",
   "metadata": {},
   "source": [
    "#### Mean, maximum and minimum of data frame."
   ]
  },
  {
   "cell_type": "code",
   "execution_count": 12,
   "id": "e6fb7389",
   "metadata": {},
   "outputs": [
    {
     "name": "stdout",
     "output_type": "stream",
     "text": [
      "The maximum of temperature is : 35\n",
      "The minimum of temperature is : 24\n",
      "The mean of temperature is : 30.333333333333332\n"
     ]
    }
   ],
   "source": [
    "import pandas as pd\n",
    "\n",
    "data={\"Day\":[\"1/1/2017\",\"1/2/2017\",\"1/3/2017\",\"1/4/2017\",\"1/5/2017\",\"1/6/2017\"], \"Temperature\":[32,35,28,24,32,31], \n",
    "      \"windspeed\":[6,7,2,7,4,2], \"Event\":[\"Rain\", \"Sunny\", \"Snow\",\"Snow\", \"Rain\", \"Sunny\"] }\n",
    "\n",
    "df=pd.DataFrame(data)\n",
    "\n",
    "Max=df[\"Temperature\"].max()\n",
    "Min=df[\"Temperature\"].min()\n",
    "Mean=df[\"Temperature\"].mean()\n",
    "\n",
    "print(\"The maximum of temperature is :\", Max)\n",
    "print(\"The minimum of temperature is :\", Min)\n",
    "print(\"The mean of temperature is :\", Mean)"
   ]
  },
  {
   "cell_type": "markdown",
   "id": "9af6de4a",
   "metadata": {},
   "source": [
    "#### 'people.csv' import and 'Newpeople.csv' export."
   ]
  },
  {
   "cell_type": "code",
   "execution_count": null,
   "id": "fb8fc8bf",
   "metadata": {},
   "outputs": [],
   "source": [
    "import pandas as pd\n",
    "\n",
    "data= pd.read_csv(\"C:\\\\Users\\\\\\Subhaan khokhar\\\\Downloads\\\\EDA Internship 2.0 Week 2\\\\EDA Internship 2.0 Week 2\\\\people.csv\" ,usecols=[\"First Name\", \"Sex\", \"Email\", \"Phone\", \"Job Title\"]\n",
    ", index_col=[\"Sex\", \"Job Title\"], skiprows=[1,5])\n",
    "\n",
    "data.to_csv('NewPeople.csv') "
   ]
  },
  {
   "cell_type": "markdown",
   "id": "6ef420f0",
   "metadata": {},
   "source": [
    "####  SampleWork.xlsx."
   ]
  },
  {
   "cell_type": "code",
   "execution_count": null,
   "id": "d0286013",
   "metadata": {},
   "outputs": [],
   "source": [
    "import pandas as pd\n",
    "\n",
    "data= pd.read_excel(\"C:\\\\Users\\\\Subhaan khokhar\\\\Downloads\\\\EDA Internship 2.0 Week 2\\\\EDA Internship 2.0 Week 2\\\\SampleWork.xlsx\"\n",
    "                    , sheet_name='Sheet1',usecols=[0,-1], skiprows=[1], header = 1, index_col=[\"Name\", \"Percentage\"])\n",
    "\n",
    "data.to_excel('NewSheet.xlsx')"
   ]
  },
  {
   "cell_type": "markdown",
   "id": "7b630155",
   "metadata": {},
   "source": [
    "####  Dataframe as AICP_DF."
   ]
  },
  {
   "cell_type": "code",
   "execution_count": 63,
   "id": "ee531426",
   "metadata": {},
   "outputs": [
    {
     "name": "stdout",
     "output_type": "stream",
     "text": [
      "AICP_DF:\n",
      "       Age    Adress Qualification  Height\n",
      "Name                                      \n",
      "Sonia   27    Lahore           MSC     5.1\n",
      "Hifza   22   sialkot           MCA     5.1\n",
      "Kabir   32  peshawar           PHD     5.2\n",
      "Jazim   23       lhr           BSC     5.1\n",
      "\n",
      "df1:\n",
      "    Name Qualification\n",
      "0  Sonia           MSC\n",
      "1  Bilal            MA\n",
      "2  Hifza           MCA\n",
      "3  Kabir           PHD\n",
      "4  Jazim           BSC\n",
      "\n",
      "Row with index 'Hifza':\n",
      "Age                   22\n",
      "Adress           sialkot\n",
      "Qualification        MCA\n",
      "Height               5.1\n",
      "Name: Hifza, dtype: object\n",
      "\n",
      "Row with index 3:\n",
      "Age                    32\n",
      "Adress           peshawar\n",
      "Qualification         PHD\n",
      "Height                5.2\n",
      "Name: Kabir, dtype: object\n"
     ]
    }
   ],
   "source": [
    "import pandas as pd\n",
    "\n",
    "AICP_DF = pd.DataFrame({\n",
    "    'Name': ['Sonia','Bilal', 'Hifza', 'Kabir', 'Jazim'],\n",
    "    'Age':[ 27,24,22,32,23], \n",
    "    'Adress':['Lahore','karachi', 'sialkot','peshawar', 'lhr'],\n",
    "    'Qualification': ['MSC', 'MA', 'MCA', 'PHD', 'BSC']\n",
    "})\n",
    "\n",
    "df1 = AICP_DF[['Name', 'Qualification']]\n",
    "\n",
    "AICP_DF['Height'] = [5.1, 6.2, 5.1, 5.2, 5.1]\n",
    "\n",
    "AICP_DF.set_index('Name', inplace=True)\n",
    "\n",
    "row_hifza = AICP_DF.loc['Hifza']\n",
    "\n",
    "row_index_3 = AICP_DF.iloc[3]\n",
    "\n",
    "AICP_DF.drop(index='Bilal', inplace=True)\n",
    "\n",
    "print(\"AICP_DF:\")\n",
    "print(AICP_DF)\n",
    "print(\"\\ndf1:\")\n",
    "print(df1)\n",
    "print(\"\\nRow with index 'Hifza':\")\n",
    "print(row_hifza)\n",
    "print(\"\\nRow with index 3:\")\n",
    "print(row_index_3)\n"
   ]
  }
 ],
 "metadata": {
  "kernelspec": {
   "display_name": "Python 3 (ipykernel)",
   "language": "python",
   "name": "python3"
  },
  "language_info": {
   "codemirror_mode": {
    "name": "ipython",
    "version": 3
   },
   "file_extension": ".py",
   "mimetype": "text/x-python",
   "name": "python",
   "nbconvert_exporter": "python",
   "pygments_lexer": "ipython3",
   "version": "3.11.5"
  }
 },
 "nbformat": 4,
 "nbformat_minor": 5
}
